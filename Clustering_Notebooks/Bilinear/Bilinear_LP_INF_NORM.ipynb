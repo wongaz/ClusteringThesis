{
 "cells": [
  {
   "cell_type": "code",
   "execution_count": 7,
   "metadata": {},
   "outputs": [],
   "source": [
    "import time\n",
    "from __future__ import division # safety with double division\n",
    "from pyomo.environ import *\n",
    "from pyomo.opt import SolverFactory\n",
    "import pandas as pd\n",
    "import numpy as np\n",
    "import random\n"
   ]
  },
  {
   "cell_type": "code",
   "execution_count": 8,
   "metadata": {},
   "outputs": [],
   "source": [
    "random.seed(1024)\n",
    "Opt = SolverFactory(\"gurobi\")"
   ]
  },
  {
   "cell_type": "markdown",
   "metadata": {},
   "source": [
    "# Clustering for Centroids\n",
    "In this linear programming optimization, it will be optimizing for the Centroids location relative to the fixed assignments;"
   ]
  },
  {
   "cell_type": "markdown",
   "metadata": {},
   "source": [
    "### M1:\n",
    "This LP will fix the assignment of the Centroids and optimize for the Lowest possible distance of $C_i$ "
   ]
  },
  {
   "cell_type": "code",
   "execution_count": 9,
   "metadata": {},
   "outputs": [],
   "source": [
    "M1 = AbstractModel()\n",
    "M1.name = \"Clustering Centroid-Distance LP\""
   ]
  },
  {
   "cell_type": "markdown",
   "metadata": {},
   "source": [
    "### M2\n",
    "This LP will fix the Centroid Locations and redo the assignement. "
   ]
  },
  {
   "cell_type": "code",
   "execution_count": 10,
   "metadata": {},
   "outputs": [],
   "source": [
    "M2 = AbstractModel()\n",
    "M2.name = \"Clustering Assignment-LP\""
   ]
  },
  {
   "cell_type": "markdown",
   "metadata": {},
   "source": [
    "## Parameters\n",
    "Both LP's have same starting parameter that characterize the problem.\n",
    "- **d**: number of dimensions\n",
    "- **n**: number of points to cluster\n",
    "- **k**: number of clusters to generate"
   ]
  },
  {
   "cell_type": "code",
   "execution_count": 11,
   "metadata": {},
   "outputs": [],
   "source": [
    "M1.NumberOfDimensions = Param(within=NonNegativeIntegers)\n",
    "M1.NumberOfPoints = Param(within=NonNegativeIntegers)\n",
    "M1.NumberOfClusters = Param(within=NonNegativeIntegers)"
   ]
  },
  {
   "cell_type": "code",
   "execution_count": 12,
   "metadata": {},
   "outputs": [],
   "source": [
    "M2.NumberOfDimensions = Param(within=NonNegativeIntegers)\n",
    "M2.NumberOfPoints = Param(within=NonNegativeIntegers)\n",
    "M2.NumberOfClusters = Param(within=NonNegativeIntegers)"
   ]
  },
  {
   "cell_type": "markdown",
   "metadata": {},
   "source": [
    "## Set\n",
    "- **Dimension Index (D)**: Set consisting of all possible possible dimensions an arbitrary point i.e. $\\{x_1, x_2, x_3 ... x_d\\}$\n",
    "- **Points (P)**: Set consisting of all indexes for Points in the system. $\\{p_1, p_2, p_3 ... p_n\\}$\n",
    "- **Cluster Index (C)**: Set consisting of possible ClusterIndex. $\\{c_1, c_2, c_3 ... c_k\\}$"
   ]
  },
  {
   "cell_type": "code",
   "execution_count": 13,
   "metadata": {},
   "outputs": [],
   "source": [
    "M1.DimensionIndex = RangeSet(1,M1.NumberOfDimensions)\n",
    "M1.PointsIndex = RangeSet(1,M1.NumberOfPoints)\n",
    "M1.ClusterIndex = RangeSet(1,M1.NumberOfClusters)"
   ]
  },
  {
   "cell_type": "code",
   "execution_count": 14,
   "metadata": {},
   "outputs": [],
   "source": [
    "M2.DimensionIndex = RangeSet(1,M2.NumberOfDimensions)\n",
    "M2.PointsIndex = RangeSet(1,M2.NumberOfPoints)\n",
    "M2.ClusterIndex = RangeSet(1,M2.NumberOfClusters)"
   ]
  },
  {
   "cell_type": "markdown",
   "metadata": {},
   "source": [
    "## Inputs\n",
    "- **Point**: $P_{i,d}$ where $i$ $\\in$ PointsIndex and $j$ $\\in$ DimensionIndex "
   ]
  },
  {
   "cell_type": "code",
   "execution_count": 15,
   "metadata": {},
   "outputs": [],
   "source": [
    "M1.Point = Param(M1.PointsIndex,M1.DimensionIndex, within=Reals)"
   ]
  },
  {
   "cell_type": "code",
   "execution_count": 16,
   "metadata": {},
   "outputs": [],
   "source": [
    "M2.Point = Param(M2.PointsIndex,M2.DimensionIndex, within=Reals)"
   ]
  },
  {
   "cell_type": "markdown",
   "metadata": {},
   "source": [
    "## Possible Variables\n",
    "- **Centroid**: $C_{i,d}$ where i $\\in$ ClusterIndex and d $\\in$ dimensionalIndex \n",
    "- **Assignment**: $A_{i,j}$ where i $\\in$ pointsIndex and j $\\in$ clusteringIndex\n",
    "- **Slack**: $S_{i,j,d}$ where i $\\in$ P, j $\\in$ C, and d $\\in$ D\n",
    "- **Z**: The Upper Bound for the slack variables"
   ]
  },
  {
   "cell_type": "markdown",
   "metadata": {},
   "source": [
    "### M1 Variables\n",
    "- **Centroid**: $C_{i,d}$ where i $\\in$ ClusterIndex and d $\\in$ D\n",
    "- **Slack**: $S_{i,j,d}$ where i $\\in$ P, j $\\in$ C, and d $\\in$ D\n",
    "- **Z**: The Upper Bound for the slack variables"
   ]
  },
  {
   "cell_type": "code",
   "execution_count": 17,
   "metadata": {},
   "outputs": [],
   "source": [
    "M1.Centroid=Var(M1.ClusterIndex, M1.DimensionIndex, within=Reals)\n",
    "M1.Slack = Var(M1.PointsIndex,M1.ClusterIndex,M1.DimensionIndex, within=Reals)\n",
    "M1.Z = Var(M1.PointsIndex,M1.ClusterIndex, within=NonNegativeReals)"
   ]
  },
  {
   "cell_type": "markdown",
   "metadata": {},
   "source": [
    "### M2 Variables\n",
    "- **Assignment**: $A_{i,j}$ where i $\\in$ pointsIndex and j $\\in$ clusteringIndex\n",
    "- **Slack**: $S_{i,j,d}$ where i $\\in$ P, j $\\in$ C, and d $\\in$ D\n",
    "- **Z**: The Upper Bound for the slack variables"
   ]
  },
  {
   "cell_type": "code",
   "execution_count": 18,
   "metadata": {},
   "outputs": [],
   "source": [
    "M2.Assignment = Var(M2.PointsIndex, M2.ClusterIndex, within=Binary)\n",
    "M2.Slack = Var(M2.PointsIndex,M2.ClusterIndex,M2.DimensionIndex, within=Reals)\n",
    "M2.Z = Var(M2.PointsIndex,M2.ClusterIndex, within=NonNegativeReals)"
   ]
  },
  {
   "cell_type": "markdown",
   "metadata": {},
   "source": [
    "### M1 Fixed Value"
   ]
  },
  {
   "cell_type": "code",
   "execution_count": 19,
   "metadata": {},
   "outputs": [],
   "source": [
    "M1.Assignment=Param(M1.PointsIndex, M1.ClusterIndex, default=0,within=Binary, mutable=True)"
   ]
  },
  {
   "cell_type": "markdown",
   "metadata": {},
   "source": [
    "### M2 Fixed Value"
   ]
  },
  {
   "cell_type": "code",
   "execution_count": 20,
   "metadata": {},
   "outputs": [],
   "source": [
    "M2.Centroid=Param(M2.ClusterIndex, M2.DimensionIndex,default=0,within=Reals, mutable=True)"
   ]
  },
  {
   "cell_type": "markdown",
   "metadata": {},
   "source": [
    "# Model M1\n",
    "## Objective Function for M1\n",
    "$$ \\textbf{min}  \\;\\sum_{i\\in P}\\sum_{j\\in C} Z_{i,j} $$"
   ]
  },
  {
   "cell_type": "code",
   "execution_count": 21,
   "metadata": {},
   "outputs": [],
   "source": [
    "def ObjectiveFunction(M):\n",
    "    return sum(\\\n",
    "               M.Z[i,j]\\\n",
    "               for i in M.PointsIndex \\\n",
    "               for j in M.ClusterIndex)\n",
    "M1.Distance = Objective(rule=ObjectiveFunction, sense=minimize)\n",
    "    "
   ]
  },
  {
   "cell_type": "markdown",
   "metadata": {},
   "source": [
    "### Constraint 1: Distance Constraint\n",
    "Used to convert distance metric into 1-norm\n",
    "$$0=A_{i,j}\\cdot(P_{i,d}-C_{j,d})+(S_{i,j,d}) \\qquad \\forall i \\in P, j\\in C, d \\in D $$"
   ]
  },
  {
   "cell_type": "code",
   "execution_count": 22,
   "metadata": {},
   "outputs": [],
   "source": [
    "def DistanceConstraint(M,i,j,d):\n",
    "    return 0 == M.Assignment[i,j]*(M.Point[i,d]-M.Centroid[j,d])+M.Slack[i,j,d]\n",
    "M1.Norm = Constraint(M1.PointsIndex, M1.ClusterIndex, M1.DimensionIndex, rule = DistanceConstraint)"
   ]
  },
  {
   "cell_type": "markdown",
   "metadata": {},
   "source": [
    "### Constraint 2: Within Lower Bound\n",
    "$$ -Z_{i,j} \\leq S_{i,j,d} \\qquad \\forall i \\in P, j\\in C, d \\in D $$"
   ]
  },
  {
   "cell_type": "code",
   "execution_count": 23,
   "metadata": {},
   "outputs": [],
   "source": [
    "def LowerBoundConstraint1(M,i,j,d):\n",
    "    return -M.Z[i,j] <=M.Slack[i,j,d]\n",
    "M1.LowerZBound = Constraint(M1.PointsIndex, M1.ClusterIndex, M1.DimensionIndex, rule = LowerBoundConstraint1)"
   ]
  },
  {
   "cell_type": "markdown",
   "metadata": {},
   "source": [
    "### Constraint 3: With Upper Bound\n",
    "$$ Z_{i,j} \\geq S_{i,j,d} \\qquad \\forall i \\in P, j\\in C, d \\in D $$"
   ]
  },
  {
   "cell_type": "code",
   "execution_count": 24,
   "metadata": {},
   "outputs": [],
   "source": [
    "def UpperBoundConstraint1(M,i,j,d):\n",
    "    return M.Z[i,j] >=M.Slack[i,j,d]\n",
    "M1.UpperZBound = Constraint(M1.PointsIndex, M1.ClusterIndex, M1.DimensionIndex, rule = UpperBoundConstraint1)"
   ]
  },
  {
   "cell_type": "markdown",
   "metadata": {},
   "source": [
    "# Model M2\n",
    "## Objective Function for M2\n",
    "$$ \\textbf{min}  \\;\\sum_{i\\in P}\\sum_{j\\in C} Z_{i,j} $$"
   ]
  },
  {
   "cell_type": "code",
   "execution_count": 25,
   "metadata": {},
   "outputs": [],
   "source": [
    "def ObjectiveFunction(M):\n",
    "       return sum(\\\n",
    "               M.Z[i,j]\\\n",
    "               for i in M.PointsIndex \\\n",
    "               for j in M.ClusterIndex)\n",
    "M2.Distance = Objective(rule=ObjectiveFunction, sense=minimize)"
   ]
  },
  {
   "cell_type": "markdown",
   "metadata": {},
   "source": [
    "### Constraint 1: Distance Constraint\n",
    "Used to convert distance metric into 1-norm\n",
    "$$0=A_{i,j}\\cdot(P_{i,d}-C_{j,d})+(S_{i,j,d}) \\qquad \\forall i \\in P, j\\in C, d \\in D $$"
   ]
  },
  {
   "cell_type": "code",
   "execution_count": 26,
   "metadata": {},
   "outputs": [],
   "source": [
    "def DistanceConstraint(M,i,j,d):\n",
    "    return 0 == M.Assignment[i,j]*(M.Point[i,d]-M.Centroid[j,d])+M.Slack[i,j,d]\n",
    "M2.Norm = Constraint(M2.PointsIndex, M2.ClusterIndex, M2.DimensionIndex, rule = DistanceConstraint)"
   ]
  },
  {
   "cell_type": "markdown",
   "metadata": {},
   "source": [
    "### Constraint 2: Within Lower Bound\n",
    "$$ -Z_{i,j} \\leq S_{i,j,d} \\qquad \\forall i \\in P, j\\in C, d \\in D $$"
   ]
  },
  {
   "cell_type": "code",
   "execution_count": 27,
   "metadata": {},
   "outputs": [],
   "source": [
    "def LowerBoundConstraint2(M,i,j,d):\n",
    "    return -M.Z[i,j]<=M.Slack[i,j,d]\n",
    "M2.LowerZBound = Constraint(M2.PointsIndex, M2.ClusterIndex, M2.DimensionIndex, rule = LowerBoundConstraint2)"
   ]
  },
  {
   "cell_type": "markdown",
   "metadata": {},
   "source": [
    "### Constraint 3: With Upper Bound\n",
    "$$ Z_{i,j} \\geq S_{i,j,d} \\qquad \\forall i \\in P, j\\in C, d \\in D $$"
   ]
  },
  {
   "cell_type": "code",
   "execution_count": 28,
   "metadata": {},
   "outputs": [],
   "source": [
    "def UpperBoundConstraint2(M,i,j,d):\n",
    "    return M.Z[i,j] >=M.Slack[i,j,d]\n",
    "M2.UpperZBound = Constraint(M2.PointsIndex, M2.ClusterIndex, M2.DimensionIndex, rule = UpperBoundConstraint2)"
   ]
  },
  {
   "cell_type": "markdown",
   "metadata": {},
   "source": [
    "### Constraint 4: Non-Empty Cluster\n",
    "$$ 1\\leq \\sum_{i \\in P} A_{i,j} \\qquad \\forall j \\in C $$"
   ]
  },
  {
   "cell_type": "code",
   "execution_count": 29,
   "metadata": {},
   "outputs": [],
   "source": [
    "def NonEmptyCluster(M, j):\n",
    "    return 1<=sum(M.Assignment[i,j] for i in M.PointsIndex)\n",
    "M2.NonEmptyBalance = Constraint(M2.ClusterIndex, rule = NonEmptyCluster)"
   ]
  },
  {
   "cell_type": "markdown",
   "metadata": {},
   "source": [
    "### Constraint 5: Singular Assignment \n",
    "$$ 1 = \\sum_j A_{i,j} \\qquad \\forall i \\in P$$"
   ]
  },
  {
   "cell_type": "code",
   "execution_count": 30,
   "metadata": {},
   "outputs": [],
   "source": [
    "def SingularAssignment(M, i):\n",
    "    return 1==sum(M.Assignment[i,j] for j in M.ClusterIndex)\n",
    "M2.SingularAssignmentBalance = Constraint(M2.PointsIndex, rule = SingularAssignment)"
   ]
  },
  {
   "cell_type": "markdown",
   "metadata": {},
   "source": [
    "## Create Problem and Solver Instance"
   ]
  },
  {
   "cell_type": "code",
   "execution_count": 31,
   "metadata": {},
   "outputs": [],
   "source": [
    "folder  = \"../Data/Mushroom/\"\n",
    "dat_location =\"mushroom_lp\"\n",
    "dat_file = folder+dat_location+\".dat\""
   ]
  },
  {
   "cell_type": "code",
   "execution_count": 33,
   "metadata": {},
   "outputs": [],
   "source": [
    "start_time = time.time()\n",
    "original_instance2 = M2.create_instance(dat_file)\n",
    "clusters = original_instance2.NumberOfClusters.value\n",
    "points = original_instance2.NumberOfPoints.value\n",
    "dimensions = original_instance2.NumberOfDimensions.value"
   ]
  },
  {
   "cell_type": "code",
   "execution_count": 34,
   "metadata": {},
   "outputs": [],
   "source": [
    "cluster_column = [\"iteration\", \"index\"]+[\"x_\"+str(d) for d in range(1,dimensions+1)]\n",
    "centroid_DF = pd.DataFrame(columns=cluster_column)"
   ]
  },
  {
   "cell_type": "code",
   "execution_count": 35,
   "metadata": {},
   "outputs": [],
   "source": [
    "assignment_column  = [\"iteration\",\"P_i\",\"C_j\"]\n",
    "assignment_DF = pd.DataFrame(columns=assignment_column)"
   ]
  },
  {
   "cell_type": "code",
   "execution_count": 36,
   "metadata": {},
   "outputs": [],
   "source": [
    "def seeding_A(instance):\n",
    "    clusters = instance.NumberOfClusters.value\n",
    "    points = instance.NumberOfPoints.value\n",
    "    for x in range(1,points+1):\n",
    "        instance.Assignment[x,((x-1)%clusters)+1]=1"
   ]
  },
  {
   "cell_type": "code",
   "execution_count": 41,
   "metadata": {},
   "outputs": [],
   "source": [
    "def seeding_B(instance, df):\n",
    "    clusters = instance.NumberOfClusters.value\n",
    "    sliced_df = df.sample(clusters)\n",
    "    ## print(sliced_df.values)\n",
    "    for row in sliced_df.values:\n",
    "        for centroid_id in range(clusters):\n",
    "            for dim in range(dimensions):\n",
    "                instance.Centroid[centroid_id+1,dim+1]=row[dim]"
   ]
  },
  {
   "cell_type": "code",
   "execution_count": 39,
   "metadata": {},
   "outputs": [
    {
     "data": {
      "text/html": [
       "<div>\n",
       "<style scoped>\n",
       "    .dataframe tbody tr th:only-of-type {\n",
       "        vertical-align: middle;\n",
       "    }\n",
       "\n",
       "    .dataframe tbody tr th {\n",
       "        vertical-align: top;\n",
       "    }\n",
       "\n",
       "    .dataframe thead th {\n",
       "        text-align: right;\n",
       "    }\n",
       "</style>\n",
       "<table border=\"1\" class=\"dataframe\">\n",
       "  <thead>\n",
       "    <tr style=\"text-align: right;\">\n",
       "      <th></th>\n",
       "      <th>cap-shape_bell</th>\n",
       "      <th>cap-shape_conical</th>\n",
       "      <th>cap-shape_convex</th>\n",
       "      <th>cap-shape_flat</th>\n",
       "      <th>cap-shape_knobbed</th>\n",
       "      <th>cap-shape_sunken</th>\n",
       "      <th>cap-surface_fibrous</th>\n",
       "      <th>cap-surface_grooves</th>\n",
       "      <th>cap-surface_scaly</th>\n",
       "      <th>cap-surface_smooth</th>\n",
       "      <th>...</th>\n",
       "      <th>population_scattered</th>\n",
       "      <th>population_several</th>\n",
       "      <th>population_solitary</th>\n",
       "      <th>habitation_grasses</th>\n",
       "      <th>habitation_leaves</th>\n",
       "      <th>habitation_meadows</th>\n",
       "      <th>habitation_paths</th>\n",
       "      <th>habitation_urban</th>\n",
       "      <th>habitation_waste</th>\n",
       "      <th>habitation_woods</th>\n",
       "    </tr>\n",
       "  </thead>\n",
       "  <tbody>\n",
       "    <tr>\n",
       "      <th>0</th>\n",
       "      <td>0</td>\n",
       "      <td>0</td>\n",
       "      <td>1</td>\n",
       "      <td>0</td>\n",
       "      <td>0</td>\n",
       "      <td>0</td>\n",
       "      <td>0</td>\n",
       "      <td>0</td>\n",
       "      <td>0</td>\n",
       "      <td>1</td>\n",
       "      <td>...</td>\n",
       "      <td>0</td>\n",
       "      <td>0</td>\n",
       "      <td>0</td>\n",
       "      <td>1</td>\n",
       "      <td>0</td>\n",
       "      <td>0</td>\n",
       "      <td>0</td>\n",
       "      <td>0</td>\n",
       "      <td>0</td>\n",
       "      <td>0</td>\n",
       "    </tr>\n",
       "    <tr>\n",
       "      <th>1</th>\n",
       "      <td>1</td>\n",
       "      <td>0</td>\n",
       "      <td>0</td>\n",
       "      <td>0</td>\n",
       "      <td>0</td>\n",
       "      <td>0</td>\n",
       "      <td>0</td>\n",
       "      <td>0</td>\n",
       "      <td>0</td>\n",
       "      <td>1</td>\n",
       "      <td>...</td>\n",
       "      <td>0</td>\n",
       "      <td>0</td>\n",
       "      <td>0</td>\n",
       "      <td>0</td>\n",
       "      <td>0</td>\n",
       "      <td>1</td>\n",
       "      <td>0</td>\n",
       "      <td>0</td>\n",
       "      <td>0</td>\n",
       "      <td>0</td>\n",
       "    </tr>\n",
       "    <tr>\n",
       "      <th>2</th>\n",
       "      <td>0</td>\n",
       "      <td>0</td>\n",
       "      <td>1</td>\n",
       "      <td>0</td>\n",
       "      <td>0</td>\n",
       "      <td>0</td>\n",
       "      <td>0</td>\n",
       "      <td>0</td>\n",
       "      <td>1</td>\n",
       "      <td>0</td>\n",
       "      <td>...</td>\n",
       "      <td>1</td>\n",
       "      <td>0</td>\n",
       "      <td>0</td>\n",
       "      <td>0</td>\n",
       "      <td>0</td>\n",
       "      <td>0</td>\n",
       "      <td>0</td>\n",
       "      <td>1</td>\n",
       "      <td>0</td>\n",
       "      <td>0</td>\n",
       "    </tr>\n",
       "    <tr>\n",
       "      <th>3</th>\n",
       "      <td>0</td>\n",
       "      <td>0</td>\n",
       "      <td>1</td>\n",
       "      <td>0</td>\n",
       "      <td>0</td>\n",
       "      <td>0</td>\n",
       "      <td>0</td>\n",
       "      <td>0</td>\n",
       "      <td>0</td>\n",
       "      <td>1</td>\n",
       "      <td>...</td>\n",
       "      <td>0</td>\n",
       "      <td>0</td>\n",
       "      <td>0</td>\n",
       "      <td>1</td>\n",
       "      <td>0</td>\n",
       "      <td>0</td>\n",
       "      <td>0</td>\n",
       "      <td>0</td>\n",
       "      <td>0</td>\n",
       "      <td>0</td>\n",
       "    </tr>\n",
       "    <tr>\n",
       "      <th>4</th>\n",
       "      <td>0</td>\n",
       "      <td>0</td>\n",
       "      <td>1</td>\n",
       "      <td>0</td>\n",
       "      <td>0</td>\n",
       "      <td>0</td>\n",
       "      <td>0</td>\n",
       "      <td>0</td>\n",
       "      <td>1</td>\n",
       "      <td>0</td>\n",
       "      <td>...</td>\n",
       "      <td>0</td>\n",
       "      <td>0</td>\n",
       "      <td>0</td>\n",
       "      <td>1</td>\n",
       "      <td>0</td>\n",
       "      <td>0</td>\n",
       "      <td>0</td>\n",
       "      <td>0</td>\n",
       "      <td>0</td>\n",
       "      <td>0</td>\n",
       "    </tr>\n",
       "  </tbody>\n",
       "</table>\n",
       "<p>5 rows × 117 columns</p>\n",
       "</div>"
      ],
      "text/plain": [
       "   cap-shape_bell  cap-shape_conical  cap-shape_convex  cap-shape_flat  \\\n",
       "0               0                  0                 1               0   \n",
       "1               1                  0                 0               0   \n",
       "2               0                  0                 1               0   \n",
       "3               0                  0                 1               0   \n",
       "4               0                  0                 1               0   \n",
       "\n",
       "   cap-shape_knobbed  cap-shape_sunken  cap-surface_fibrous  \\\n",
       "0                  0                 0                    0   \n",
       "1                  0                 0                    0   \n",
       "2                  0                 0                    0   \n",
       "3                  0                 0                    0   \n",
       "4                  0                 0                    0   \n",
       "\n",
       "   cap-surface_grooves  cap-surface_scaly  cap-surface_smooth  \\\n",
       "0                    0                  0                   1   \n",
       "1                    0                  0                   1   \n",
       "2                    0                  1                   0   \n",
       "3                    0                  0                   1   \n",
       "4                    0                  1                   0   \n",
       "\n",
       "         ...         population_scattered  population_several  \\\n",
       "0        ...                            0                   0   \n",
       "1        ...                            0                   0   \n",
       "2        ...                            1                   0   \n",
       "3        ...                            0                   0   \n",
       "4        ...                            0                   0   \n",
       "\n",
       "   population_solitary  habitation_grasses  habitation_leaves  \\\n",
       "0                    0                   1                  0   \n",
       "1                    0                   0                  0   \n",
       "2                    0                   0                  0   \n",
       "3                    0                   1                  0   \n",
       "4                    0                   1                  0   \n",
       "\n",
       "   habitation_meadows  habitation_paths  habitation_urban  habitation_waste  \\\n",
       "0                   0                 0                 0                 0   \n",
       "1                   1                 0                 0                 0   \n",
       "2                   0                 0                 1                 0   \n",
       "3                   0                 0                 0                 0   \n",
       "4                   0                 0                 0                 0   \n",
       "\n",
       "   habitation_woods  \n",
       "0                 0  \n",
       "1                 0  \n",
       "2                 0  \n",
       "3                 0  \n",
       "4                 0  \n",
       "\n",
       "[5 rows x 117 columns]"
      ]
     },
     "execution_count": 39,
     "metadata": {},
     "output_type": "execute_result"
    }
   ],
   "source": [
    "df = pd.read_csv(\"../Data/Mushroom/mushroom_data.csv\")\n",
    "df.head()"
   ]
  },
  {
   "cell_type": "code",
   "execution_count": 42,
   "metadata": {},
   "outputs": [
    {
     "name": "stdout",
     "output_type": "stream",
     "text": [
      "[[0 0 1 0 0 0 0 0 1 0 0 0 0 0 1 0 0 0 0 0 0 1 0 0 0 0 0 0 1 0 0 0 1 1 0 0\n",
      "  1 0 0 0 1 0 0 0 0 0 0 0 0 1 0 1 0 0 0 0 0 0 0 1 1 0 0 0 0 0 0 0 0 0 0 1\n",
      "  0 0 0 0 0 0 0 0 1 0 1 0 0 1 0 0 1 0 0 1 0 0 0 0 0 0 1 0 0 0 0 0 0 0 0 0\n",
      "  0 1 0 0 0 0 0 0 1]\n",
      " [0 0 1 0 0 0 1 0 0 0 1 0 0 0 0 0 0 0 0 0 1 0 0 0 0 0 0 0 1 0 0 0 1 1 0 1\n",
      "  0 0 0 0 0 0 0 0 1 0 0 0 0 0 1 0 1 0 0 0 0 0 0 1 0 0 0 1 0 0 0 1 0 0 0 0\n",
      "  0 0 0 0 0 0 0 0 1 0 1 0 0 1 0 0 1 0 0 0 0 0 1 1 0 0 0 0 0 0 0 0 0 0 0 0\n",
      "  1 0 0 0 0 0 0 0 1]\n",
      " [0 0 1 0 0 0 1 0 0 0 1 0 0 0 0 0 0 0 0 0 1 0 0 0 0 0 0 0 1 0 0 0 1 1 0 1\n",
      "  0 0 0 0 0 0 0 0 0 1 0 0 0 0 1 0 1 0 0 0 0 0 0 1 0 0 0 1 0 0 0 0 0 1 0 0\n",
      "  0 0 0 0 0 0 1 0 0 0 1 0 0 1 0 0 1 0 0 0 0 0 1 0 1 0 0 0 0 0 0 0 0 0 0 0\n",
      "  0 1 0 0 0 0 0 0 1]\n",
      " [0 0 0 0 1 0 1 0 0 0 0 0 0 1 0 0 0 0 0 0 0 1 0 0 0 0 0 0 1 0 0 0 1 0 1 1\n",
      "  0 0 0 0 0 1 0 0 0 0 0 0 0 1 0 1 0 0 0 0 0 0 1 0 0 0 0 1 0 0 0 0 0 0 0 1\n",
      "  0 0 0 0 0 0 0 0 1 0 1 0 0 1 0 0 0 1 0 0 0 0 1 0 0 0 0 0 0 0 1 0 0 0 1 0\n",
      "  0 0 1 0 0 0 0 0 0]]\n"
     ]
    }
   ],
   "source": [
    "seeding_B(original_instance2, df=df)\n",
    "count=0"
   ]
  },
  {
   "cell_type": "code",
   "execution_count": 44,
   "metadata": {},
   "outputs": [],
   "source": [
    "past_instance2 = None"
   ]
  },
  {
   "cell_type": "code",
   "execution_count": 45,
   "metadata": {},
   "outputs": [
    {
     "ename": "NameError",
     "evalue": "name 'current_instance2' is not defined",
     "output_type": "error",
     "traceback": [
      "\u001b[0;31m---------------------------------------------------------------------------\u001b[0m",
      "\u001b[0;31mNameError\u001b[0m                                 Traceback (most recent call last)",
      "\u001b[0;32m<ipython-input-45-e249c969d93f>\u001b[0m in \u001b[0;36m<module>\u001b[0;34m()\u001b[0m\n\u001b[1;32m      3\u001b[0m     \u001b[0mmedian_df\u001b[0m \u001b[0;34m=\u001b[0m \u001b[0mpd\u001b[0m\u001b[0;34m.\u001b[0m\u001b[0mDataFrame\u001b[0m\u001b[0;34m(\u001b[0m\u001b[0mcolumns\u001b[0m \u001b[0;34m=\u001b[0m\u001b[0mmedian_columns\u001b[0m\u001b[0;34m)\u001b[0m\u001b[0;34m\u001b[0m\u001b[0;34m\u001b[0m\u001b[0m\n\u001b[1;32m      4\u001b[0m \u001b[0;34m\u001b[0m\u001b[0m\n\u001b[0;32m----> 5\u001b[0;31m     \u001b[0mSoln2\u001b[0m \u001b[0;34m=\u001b[0m \u001b[0mOpt\u001b[0m\u001b[0;34m.\u001b[0m\u001b[0msolve\u001b[0m\u001b[0;34m(\u001b[0m\u001b[0mcurrent_instance2\u001b[0m\u001b[0;34m)\u001b[0m\u001b[0;34m\u001b[0m\u001b[0;34m\u001b[0m\u001b[0m\n\u001b[0m\u001b[1;32m      6\u001b[0m     \u001b[0mcurrent_instance2\u001b[0m\u001b[0;34m.\u001b[0m\u001b[0msolutions\u001b[0m\u001b[0;34m.\u001b[0m\u001b[0mload_from\u001b[0m\u001b[0;34m(\u001b[0m\u001b[0mSoln2\u001b[0m\u001b[0;34m)\u001b[0m\u001b[0;34m\u001b[0m\u001b[0;34m\u001b[0m\u001b[0m\n\u001b[1;32m      7\u001b[0m \u001b[0;34m\u001b[0m\u001b[0m\n",
      "\u001b[0;31mNameError\u001b[0m: name 'current_instance2' is not defined"
     ]
    }
   ],
   "source": [
    "while(True):\n",
    "    median_columns = [\"group\"]+[\"x_\"+str(d) for d in range(1,dimensions+1)]\n",
    "    median_df = pd.DataFrame(columns =median_columns)\n",
    "    \n",
    "    Soln2 = Opt.solve(current_instance2)\n",
    "    current_instance2.solutions.load_from(Soln2)\n",
    "    \n",
    "    print(\"Current_instance 2: \", count)\n",
    "    print(\"Termination Condition was \"+str(Soln2.Solver.Termination_condition))\n",
    "    \n",
    "    ##display(current_instance2)\n",
    "    ## Assignment Record\n",
    "    for i in range(1,points+1):\n",
    "        for j in range(1,clusters+1):\n",
    "            if(current_instance2.Assignment[i,j] == 1):\n",
    "                arr = [count, i, j]\n",
    "                assignment_DF.loc[len(assignment_DF)] = arr\n",
    "                arr2 = [j]\n",
    "                for d  in range(1,dimensions+1):\n",
    "                    arr2.append(value(current_instance2.Point[i,d]))\n",
    "                median_df.loc[len(median_df)] = arr2\n",
    "    \n",
    "    ## Centroid Location\n",
    "    for j in range(1,clusters+1):\n",
    "        arr = [count, j]\n",
    "        for d  in range(1,dimensions+1):\n",
    "            arr.append(value(current_instance2.Centroid[j,d]))\n",
    "        centroid_DF.loc[len(centroid_DF)] = arr\n",
    "        \n",
    "    print(median_df.head())\n",
    "    print(median_df.groupby(\"group\").median())\n",
    "    print(median_df.groupby(\"group\").median().values)\n",
    "    median_val= median_df.groupby(\"group\").median().values\n",
    "    \n",
    "    for row in median_val:\n",
    "        for centroid_id in range(clusters):\n",
    "            for dim in range(dimensions):\n",
    "                original_instance2.Centroid[centroid_id+1,dim+1]=row[dim]\n",
    "    \n",
    "    if(past_instance2 is not None):\n",
    "        if np.array_equal(median_val, past_instance2):\n",
    "            break\n",
    "    past_instance2 = median_val\n",
    "    count+=1\n",
    "    print()"
   ]
  },
  {
   "cell_type": "code",
   "execution_count": null,
   "metadata": {},
   "outputs": [],
   "source": [
    "print(\"Time to complete:\", time.time() - start_time)"
   ]
  },
  {
   "cell_type": "code",
   "execution_count": 42,
   "metadata": {},
   "outputs": [],
   "source": [
    "assignment_DF.to_csv(folder+dat_location+seeding+\"_Assignment_INF_NORM.csv\")"
   ]
  },
  {
   "cell_type": "code",
   "execution_count": 43,
   "metadata": {},
   "outputs": [],
   "source": [
    "centroid_DF.to_csv(folder+dat_location+seeding+\"_Centroid_INF_NORM.csv\")"
   ]
  },
  {
   "cell_type": "code",
   "execution_count": null,
   "metadata": {},
   "outputs": [],
   "source": [
    "count"
   ]
  },
  {
   "cell_type": "code",
   "execution_count": null,
   "metadata": {},
   "outputs": [],
   "source": []
  }
 ],
 "metadata": {
  "kernelspec": {
   "display_name": "Python 3",
   "language": "python",
   "name": "python3"
  },
  "language_info": {
   "codemirror_mode": {
    "name": "ipython",
    "version": 3
   },
   "file_extension": ".py",
   "mimetype": "text/x-python",
   "name": "python",
   "nbconvert_exporter": "python",
   "pygments_lexer": "ipython3",
   "version": "3.7.2"
  }
 },
 "nbformat": 4,
 "nbformat_minor": 2
}
