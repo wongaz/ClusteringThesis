{
 "cells": [
  {
   "cell_type": "code",
   "execution_count": 1,
   "metadata": {},
   "outputs": [],
   "source": [
    "from __future__ import division # safety with double division\n",
    "from pyomo.environ import *\n",
    "from pyomo.opt import SolverFactory\n",
    "import pandas as pd\n",
    "Opt = SolverFactory(\"gurobi\")\n",
    "Opt.options[\"threads\"] = 6"
   ]
  },
  {
   "cell_type": "markdown",
   "metadata": {},
   "source": [
    "# Clustering for Centroids\n",
    "In this linear programming optimization, it will be optimizing for the Centroids location relative to the fixed assignments;"
   ]
  },
  {
   "cell_type": "markdown",
   "metadata": {},
   "source": [
    "### M1:\n",
    "This LP will fix the assignment of the Centroids and optimize for the Lowest possible distance of $C_i$ "
   ]
  },
  {
   "cell_type": "code",
   "execution_count": 2,
   "metadata": {},
   "outputs": [],
   "source": [
    "M1 = AbstractModel()\n",
    "M1.name = \"Clustering Centroid-Distance LP\""
   ]
  },
  {
   "cell_type": "markdown",
   "metadata": {},
   "source": [
    "### M2\n",
    "This LP will fix the Centroid Locations and redo the assignement. "
   ]
  },
  {
   "cell_type": "code",
   "execution_count": 3,
   "metadata": {},
   "outputs": [],
   "source": [
    "M2 = AbstractModel()\n",
    "M2.name = \"Clustering Assignment-LP\""
   ]
  },
  {
   "cell_type": "markdown",
   "metadata": {},
   "source": [
    "## Parameters\n",
    "Both LP's have same starting parameter that characterize the problem.\n",
    "- **d**: number of dimensions\n",
    "- **n**: number of points to cluster\n",
    "- **k**: number of clusters to generate"
   ]
  },
  {
   "cell_type": "code",
   "execution_count": 4,
   "metadata": {},
   "outputs": [],
   "source": [
    "M1.NumberOfDimensions = Param(within=NonNegativeIntegers)\n",
    "M1.NumberOfPoints = Param(within=NonNegativeIntegers)\n",
    "M1.NumberOfClusters = Param(within=NonNegativeIntegers)"
   ]
  },
  {
   "cell_type": "code",
   "execution_count": 5,
   "metadata": {},
   "outputs": [],
   "source": [
    "M2.NumberOfDimensions = Param(within=NonNegativeIntegers)\n",
    "M2.NumberOfPoints = Param(within=NonNegativeIntegers)\n",
    "M2.NumberOfClusters = Param(within=NonNegativeIntegers)"
   ]
  },
  {
   "cell_type": "markdown",
   "metadata": {},
   "source": [
    "## Set\n",
    "- **Dimension Index (D)**: Set consisting of all possible possible dimensions an arbitrary point i.e. $[x_1, x_2, x_3 ... x_d]$\n",
    "- **Points (P)**: Set consisting of all indexes for Points in the system. $[p_1, p_2, p_3 ... p_n]$\n",
    "- **Cluster Index (C)**: Set consisting of possible ClusterIndex. $[c_1, c_2, c_3 ... c_k]$"
   ]
  },
  {
   "cell_type": "code",
   "execution_count": 6,
   "metadata": {},
   "outputs": [],
   "source": [
    "M1.DimensionIndex = RangeSet(1,M1.NumberOfDimensions)\n",
    "M1.PointsIndex = RangeSet(1,M1.NumberOfPoints)\n",
    "M1.ClusterIndex = RangeSet(1,M1.NumberOfClusters)"
   ]
  },
  {
   "cell_type": "code",
   "execution_count": 7,
   "metadata": {},
   "outputs": [],
   "source": [
    "M2.DimensionIndex = RangeSet(1,M2.NumberOfDimensions)\n",
    "M2.PointsIndex = RangeSet(1,M2.NumberOfPoints)\n",
    "M2.ClusterIndex = RangeSet(1,M2.NumberOfClusters)"
   ]
  },
  {
   "cell_type": "markdown",
   "metadata": {},
   "source": [
    "## Inputs\n",
    "- **Point**: $P_{i,d}$ where $i$ $\\in$ PointsIndex and $j$ $\\in$ DimensionIndex "
   ]
  },
  {
   "cell_type": "code",
   "execution_count": 8,
   "metadata": {},
   "outputs": [],
   "source": [
    "M1.Point = Param(M1.PointsIndex,M1.DimensionIndex, within=Reals)"
   ]
  },
  {
   "cell_type": "code",
   "execution_count": 9,
   "metadata": {},
   "outputs": [],
   "source": [
    "M2.Point = Param(M2.PointsIndex,M2.DimensionIndex, within=Reals)"
   ]
  },
  {
   "cell_type": "markdown",
   "metadata": {},
   "source": [
    "## Possible Variables\n",
    "- **Centroid**: $C_{i,d}$ where i $\\in$ ClusterIndex and d $\\in$ dimensionalIndex \n",
    "- **Assignment**: $A_{i,j}$ where i $\\in$ pointsIndex and j $\\in$ clusteringIndex\n",
    "- **Slack Positive**: $S^{+}_{i,j,d}$ where i $\\in$ P, j $\\in$ C, and d $\\in$ D\n",
    "- **Slack Negative** $S^{-}_{i,j,d}$ where i $\\in$ P, j $\\in$ C, and d $\\in$ D"
   ]
  },
  {
   "cell_type": "markdown",
   "metadata": {},
   "source": [
    "### M1 Variables\n",
    "- **Centroid**: $C_{i,d}$ where i $\\in$ ClusterIndex and d $\\in$ dimensionalIndex \n",
    "- **Slack Positive**: $S^{+}_{i,j,d}$ where i $\\in$ P, j $\\in$ C, and d $\\in$ D\n",
    "- **Skack Negative** $S^{-}_{i,j,d}$ where i $\\in$ P, j $\\in$ C, and d $\\in$ D"
   ]
  },
  {
   "cell_type": "code",
   "execution_count": 10,
   "metadata": {},
   "outputs": [],
   "source": [
    "M1.Centroid=Var(M1.ClusterIndex, M1.DimensionIndex, within=Reals)\n",
    "M1.Slack_Plus = Var(M1.PointsIndex,M1.ClusterIndex,M1.DimensionIndex, within=NonNegativeReals)\n",
    "M1.Slack_Minus = Var(M1.PointsIndex,M1.ClusterIndex,M1.DimensionIndex, within=NonNegativeReals)"
   ]
  },
  {
   "cell_type": "markdown",
   "metadata": {},
   "source": [
    "### M2 Variables\n",
    "- **Assignment**: $A_{i,j}$ where i $\\in$ pointsIndex and j $\\in$ clusteringIndex\n",
    "- **Slack Positive**: $S^{+}_{i,j,d}$ where i $\\in$ P, j $\\in$ C, and d $\\in$ D\n",
    "- **Skack Negative** $S^{-}_{i,j,d}$ where i $\\in$ P, j $\\in$ C, and d $\\in$ D"
   ]
  },
  {
   "cell_type": "code",
   "execution_count": 11,
   "metadata": {},
   "outputs": [],
   "source": [
    "M2.Assignment = Var(M2.PointsIndex, M2.ClusterIndex, within=Binary)\n",
    "M2.Slack_Plus = Var(M2.PointsIndex,M2.ClusterIndex,M2.DimensionIndex, within=NonNegativeReals)\n",
    "M2.Slack_Minus = Var(M2.PointsIndex,M2.ClusterIndex,M2.DimensionIndex, within=NonNegativeReals)"
   ]
  },
  {
   "cell_type": "markdown",
   "metadata": {},
   "source": [
    "### M1 Fixed Value"
   ]
  },
  {
   "cell_type": "code",
   "execution_count": 12,
   "metadata": {},
   "outputs": [],
   "source": [
    "M1.Assignment=Param(M1.PointsIndex, M1.ClusterIndex, default=0, within=Binary, mutable=True)"
   ]
  },
  {
   "cell_type": "markdown",
   "metadata": {},
   "source": [
    "### M2 Fixed Value"
   ]
  },
  {
   "cell_type": "code",
   "execution_count": 13,
   "metadata": {},
   "outputs": [],
   "source": [
    "M2.Centroid=Param(M2.ClusterIndex, M2.DimensionIndex,default=0,within=Reals, mutable=True)"
   ]
  },
  {
   "cell_type": "markdown",
   "metadata": {},
   "source": [
    "# Model M1\n",
    "## Objective Function for M1\n",
    "$$ \\sum_{i \\in Points}\\sum_{j \\in Clusters}\\sum_{d \\in Dimensions} (S^{+}_{i,j,d}+S^{-}_{i,j,d}) $$"
   ]
  },
  {
   "cell_type": "code",
   "execution_count": 14,
   "metadata": {},
   "outputs": [],
   "source": [
    "def ObjectiveFunction(M):\n",
    "    return sum(\\\n",
    "               (M.Slack_Plus[i,j,d]+M.Slack_Minus[i,j,d])\\\n",
    "               for i in M.PointsIndex \\\n",
    "               for j in M.ClusterIndex \\\n",
    "               for d in M.DimensionIndex)\n",
    "M1.Distance = Objective(rule=ObjectiveFunction, sense=minimize)\n",
    "    "
   ]
  },
  {
   "cell_type": "markdown",
   "metadata": {},
   "source": [
    "### Constraint 1: Distance Constraint\n",
    "Used to convert distance metric into 1-norm\n",
    "$$0=A_{i,j}\\cdot(P_{i,d}-C_{j,d})+(S^{+}_{i,j,d}-S^{-}_{i,j,d}) \\qquad \\forall i \\in P, j\\in C, d \\in D $$"
   ]
  },
  {
   "cell_type": "code",
   "execution_count": 15,
   "metadata": {},
   "outputs": [],
   "source": [
    "def DistanceConstraint(M,i,j,d):\n",
    "    return 0 == M.Assignment[i,j]*(M.Point[i,d]-M.Centroid[j,d])+M.Slack_Plus[i,j,d]-M.Slack_Minus[i,j,d]\n",
    "M1.Norm = Constraint(M1.PointsIndex, M1.ClusterIndex, M1.DimensionIndex, rule = DistanceConstraint)"
   ]
  },
  {
   "cell_type": "markdown",
   "metadata": {},
   "source": [
    "# Model M2\n",
    "## Objective Function for M2\n",
    "$$ \\sum_{i \\in Points}\\sum_{j \\in Clusters}\\sum_{d \\in Dimensions} (S^{+}_{i,j,d}+S^{-}_{i,j,d}) $$"
   ]
  },
  {
   "cell_type": "code",
   "execution_count": 16,
   "metadata": {},
   "outputs": [],
   "source": [
    "def ObjectiveFunction(M):\n",
    "    return sum(\\\n",
    "               (M.Slack_Plus[i,j,d]+M.Slack_Minus[i,j,d])\\\n",
    "               for i in M.PointsIndex \\\n",
    "               for j in M.ClusterIndex \\\n",
    "               for d in M.DimensionIndex)\n",
    "M2.Distance = Objective(rule=ObjectiveFunction, sense=minimize)"
   ]
  },
  {
   "cell_type": "markdown",
   "metadata": {},
   "source": [
    "### Constraint 1: Distance Constraint\n",
    "Used to convert distance metric into 1-norm\n",
    "$$0=A_{i,j}\\cdot(P_{i,d}-C_{j,d})+(S^{+}_{i,j,d}-S^{-}_{i,j,d}) \\qquad \\forall i \\in P, j\\in C, d \\in D $$"
   ]
  },
  {
   "cell_type": "code",
   "execution_count": 17,
   "metadata": {},
   "outputs": [],
   "source": [
    "def DistanceConstraint(M,i,j,d):\n",
    "    return 0 == M.Assignment[i,j]*(M.Point[i,d]-M.Centroid[j,d])+M.Slack_Plus[i,j,d]-M.Slack_Minus[i,j,d]\n",
    "M2.Norm = Constraint(M2.PointsIndex, M2.ClusterIndex, M2.DimensionIndex, rule = DistanceConstraint)"
   ]
  },
  {
   "cell_type": "markdown",
   "metadata": {},
   "source": [
    "### Constraint 2: Non-Empty Cluster\n",
    "$$ 1\\leq \\sum_{i \\in P} A_{i,j} \\qquad \\forall j \\in C $$"
   ]
  },
  {
   "cell_type": "code",
   "execution_count": 18,
   "metadata": {},
   "outputs": [],
   "source": [
    "def NonEmptyCluster(M, j):\n",
    "    return 1<=sum(M.Assignment[i,j] for i in M.PointsIndex)\n",
    "M2.NonEmptyBalance = Constraint(M2.ClusterIndex, rule = NonEmptyCluster)"
   ]
  },
  {
   "cell_type": "markdown",
   "metadata": {},
   "source": [
    "### Constraint 3: Singular Assignment \n",
    "$$ 1 = \\sum_j A_{i,j} \\qquad \\forall i \\in P$$"
   ]
  },
  {
   "cell_type": "code",
   "execution_count": 19,
   "metadata": {},
   "outputs": [],
   "source": [
    "def SingularAssignment(M, i):\n",
    "    return 1==sum(M.Assignment[i,j] for j in M.ClusterIndex)\n",
    "M2.SingularAssignmentBalance = Constraint(M2.PointsIndex, rule = SingularAssignment)"
   ]
  },
  {
   "cell_type": "markdown",
   "metadata": {},
   "source": [
    "## Create Problem and Solver Instance"
   ]
  },
  {
   "cell_type": "code",
   "execution_count": 20,
   "metadata": {},
   "outputs": [],
   "source": [
    "folder  = \"../Data/lim_as_n_goes_inf/\"\n",
    "dat_file =\"big.dat\"\n",
    "dat = folder+dat_file"
   ]
  },
  {
   "cell_type": "code",
   "execution_count": 21,
   "metadata": {},
   "outputs": [],
   "source": [
    "original_instance1 = M1.create_instance(dat)\n",
    "original_instance2 = M2.create_instance(dat)\n",
    "clusters = original_instance1.NumberOfClusters.value\n",
    "points = original_instance1.NumberOfPoints.value\n",
    "dimensions = original_instance1.NumberOfDimensions.value"
   ]
  },
  {
   "cell_type": "code",
   "execution_count": 22,
   "metadata": {},
   "outputs": [],
   "source": [
    "def seeding_A(instance):\n",
    "    clusters = instance.NumberOfClusters.value\n",
    "    points = instance.NumberOfPoints.value\n",
    "    for x in range(1,points+1):\n",
    "        instance.Assignment[x,((x-1)%clusters)+1]=1"
   ]
  },
  {
   "cell_type": "code",
   "execution_count": 23,
   "metadata": {},
   "outputs": [],
   "source": [
    "cluster_column = [\"iteration\", \"index\"]+[\"x_\"+str(d) for d in range(1,dimensions+1)]\n",
    "centroid_DF = pd.DataFrame(columns=cluster_column)"
   ]
  },
  {
   "cell_type": "code",
   "execution_count": 24,
   "metadata": {},
   "outputs": [],
   "source": [
    "assignment_colum  = [\"iteration\",\"P_i\",\"C_j\"]\n",
    "assignment_DF = pd.DataFrame(columns=assignment_colum)"
   ]
  },
  {
   "cell_type": "code",
   "execution_count": 25,
   "metadata": {},
   "outputs": [
    {
     "name": "stdout",
     "output_type": "stream",
     "text": [
      "Current_instance 1:  0\n",
      "Termination Condition was optimal\n",
      "Current_instance 2:  1\n",
      "Termination Condition was optimal\n",
      "Current_instance 1:  2\n",
      "Termination Condition was optimal\n",
      "Current_instance 2:  3\n",
      "Termination Condition was optimal\n",
      "Current_instance 1:  4\n",
      "Termination Condition was optimal\n",
      "Current_instance 2:  5\n",
      "Termination Condition was optimal\n",
      "Current_instance 1:  6\n",
      "Termination Condition was optimal\n",
      "Current_instance 2:  7\n",
      "Termination Condition was optimal\n",
      "Current_instance 1:  8\n",
      "Termination Condition was optimal\n",
      "Current_instance 2:  9\n",
      "Termination Condition was optimal\n",
      "Current_instance 1:  10\n",
      "Termination Condition was optimal\n",
      "Current_instance 2:  11\n",
      "Termination Condition was optimal\n",
      "Current_instance 1:  12\n",
      "Termination Condition was optimal\n",
      "Current_instance 2:  13\n",
      "Termination Condition was optimal\n",
      "Current_instance 1:  14\n",
      "Termination Condition was optimal\n",
      "Current_instance 2:  15\n",
      "Termination Condition was optimal\n",
      "Current_instance 1:  16\n",
      "Termination Condition was optimal\n",
      "Current_instance 2:  17\n",
      "Termination Condition was optimal\n",
      "Current_instance 1:  18\n",
      "Termination Condition was optimal\n",
      "Current_instance 2:  19\n",
      "Termination Condition was optimal\n",
      "Current_instance 1:  20\n",
      "Termination Condition was optimal\n",
      "Current_instance 2:  21\n",
      "Termination Condition was optimal\n",
      "Current_instance 1:  22\n",
      "Termination Condition was optimal\n",
      "Current_instance 2:  23\n",
      "Termination Condition was optimal\n",
      "Current_instance 1:  24\n",
      "Termination Condition was optimal\n",
      "Current_instance 2:  25\n",
      "Termination Condition was optimal\n",
      "Current_instance 1:  26\n",
      "Termination Condition was optimal\n",
      "Current_instance 2:  27\n",
      "Termination Condition was optimal\n",
      "Current_instance 1:  28\n",
      "Termination Condition was optimal\n",
      "Current_instance 2:  29\n",
      "Termination Condition was optimal\n",
      "Current_instance 1:  30\n",
      "Termination Condition was optimal\n",
      "Current_instance 2:  31\n",
      "Termination Condition was optimal\n",
      "Current_instance 1:  32\n",
      "Termination Condition was optimal\n",
      "Current_instance 2:  33\n",
      "Termination Condition was optimal\n",
      "Current_instance 1:  34\n",
      "Termination Condition was optimal\n",
      "Current_instance 2:  35\n",
      "Termination Condition was optimal\n",
      "Current_instance 1:  36\n",
      "Termination Condition was optimal\n",
      "Current_instance 2:  37\n",
      "Termination Condition was optimal\n",
      "Current_instance 1:  38\n",
      "Termination Condition was optimal\n",
      "Current_instance 2:  39\n",
      "Termination Condition was optimal\n",
      "Current_instance 1:  40\n",
      "Termination Condition was optimal\n",
      "Current_instance 2:  41\n",
      "Termination Condition was optimal\n",
      "Current_instance 1:  42\n",
      "Termination Condition was optimal\n",
      "Current_instance 2:  43\n",
      "Termination Condition was optimal\n",
      "Current_instance 1:  44\n",
      "Termination Condition was optimal\n",
      "Current_instance 2:  45\n",
      "Termination Condition was optimal\n",
      "Current_instance 1:  46\n",
      "Termination Condition was optimal\n",
      "Current_instance 2:  47\n",
      "Termination Condition was optimal\n",
      "Current_instance 1:  48\n",
      "Termination Condition was optimal\n",
      "Current_instance 2:  49\n",
      "Termination Condition was optimal\n",
      "Current_instance 1:  50\n",
      "Termination Condition was optimal\n",
      "Current_instance 2:  51\n",
      "Termination Condition was optimal\n",
      "Current_instance 1:  52\n",
      "Termination Condition was optimal\n",
      "Current_instance 2:  53\n",
      "Termination Condition was optimal\n",
      "Current_instance 1:  54\n",
      "Termination Condition was optimal\n",
      "Current_instance 2:  55\n",
      "Termination Condition was optimal\n",
      "Current_instance 1:  56\n",
      "Termination Condition was optimal\n",
      "Current_instance 2:  57\n",
      "Termination Condition was optimal\n",
      "Current_instance 1:  58\n",
      "Termination Condition was optimal\n",
      "Current_instance 2:  59\n",
      "Termination Condition was optimal\n",
      "Current_instance 1:  60\n",
      "Termination Condition was optimal\n",
      "Current_instance 2:  61\n",
      "Termination Condition was optimal\n",
      "Current_instance 1:  62\n",
      "Termination Condition was optimal\n",
      "Current_instance 2:  63\n",
      "Termination Condition was optimal\n",
      "Current_instance 1:  64\n",
      "Termination Condition was optimal\n",
      "Current_instance 2:  65\n",
      "Termination Condition was optimal\n",
      "Current_instance 1:  66\n",
      "Termination Condition was optimal\n",
      "Current_instance 2:  67\n",
      "Termination Condition was optimal\n",
      "Current_instance 1:  68\n",
      "Termination Condition was optimal\n",
      "Current_instance 2:  69\n",
      "Termination Condition was optimal\n",
      "Current_instance 1:  70\n",
      "Termination Condition was optimal\n",
      "Current_instance 2:  71\n",
      "Termination Condition was optimal\n",
      "Current_instance 1:  72\n",
      "Termination Condition was optimal\n"
     ]
    }
   ],
   "source": [
    "past_instance1 = None\n",
    "current_instance1 = original_instance1.clone()\n",
    "past_instance2 = None\n",
    "current_instance2 = original_instance2.clone()\n",
    "seeding_A(current_instance1)\n",
    "count=0\n",
    "\n",
    "while(True):\n",
    "    def end_condition_1(past_instance1, current_instance1):\n",
    "        if(past_instance1 is not None and past_instance2 is not None):\n",
    "            if value(past_instance1.Distance) == value(current_instance1.Distance):\n",
    "                for j in range(1,clusters+1):\n",
    "                    for d in range(1, dimensions+1):\n",
    "                        if past_instance1.Centroid[j,d] != current_instance1.Centroid[j,d]:\n",
    "                            return False\n",
    "                return True\n",
    "        return False\n",
    "    \n",
    "    def end_condition_2(past_instance2, current_instance2):\n",
    "        if(past_instance2 is not None):\n",
    "            if value(past_instance2.Distance) == value(current_instance2.Distance):\n",
    "                for i in range(1,points+1):\n",
    "                    for j in range(1, clusters+1):\n",
    "                        if past_instance2.Assignment[i,j] != current_instance2.Assignment[i,j]:\n",
    "                            return False\n",
    "                return True\n",
    "        return False\n",
    "\n",
    "    Soln1 = Opt.solve(current_instance1)\n",
    "    current_instance1.solutions.load_from(Soln1)\n",
    "\n",
    "    # Print the output\n",
    "    print(\"Current_instance 1: \", count)\n",
    "    print(\"Termination Condition was \"+str(Soln1.Solver.Termination_condition))\n",
    "    ##display(current_instance1)\n",
    "    \n",
    "    # Record Locations of Stuff\n",
    "    for i in range(1,points+1):\n",
    "        for j in range(1,clusters+1):\n",
    "            if(current_instance1.Assignment[i,j] == 1):\n",
    "                arr = [count, i, j]\n",
    "                assignment_DF.loc[len(assignment_DF)] = arr\n",
    "    \n",
    "    for j in range(1,clusters+1):\n",
    "        arr = [count, j]\n",
    "        for d  in range(1,dimensions+1):\n",
    "            arr.append(value(current_instance1.Centroid[j,d]))\n",
    "        centroid_DF.loc[len(centroid_DF)] = arr\n",
    "\n",
    "\n",
    "\n",
    "    if end_condition_1(past_instance1,current_instance1):\n",
    "        break;\n",
    "    past_instance1 = current_instance1\n",
    "    current_instance2 = original_instance2.clone()\n",
    "    \n",
    "    for j in range(1,clusters+1):\n",
    "        for d in range(1,dimensions+1):\n",
    "            current_instance2.Centroid[j,d]=current_instance1.Centroid[j,d]\n",
    "    count+=1\n",
    "    Soln2 = Opt.solve(current_instance2)\n",
    "    current_instance2.solutions.load_from(Soln2)\n",
    "    \n",
    "    print(\"Current_instance 2: \", count)\n",
    "    print(\"Termination Condition was \"+str(Soln2.Solver.Termination_condition))\n",
    "    \n",
    "    ##display(current_instance2)\n",
    "    ## Assignment Record\n",
    "    for i in range(1,points+1):\n",
    "        for j in range(1,clusters+1):\n",
    "            if(current_instance2.Assignment[i,j] == 1):\n",
    "                arr = [count, i, j]\n",
    "                assignment_DF.loc[len(assignment_DF)] = arr\n",
    "    \n",
    "    ## Centroid Location\n",
    "    for j in range(1,clusters+1):\n",
    "        arr = [count, j]\n",
    "        for d  in range(1,dimensions+1):\n",
    "            arr.append(value(current_instance2.Centroid[j,d]))\n",
    "        centroid_DF.loc[len(centroid_DF)] = arr\n",
    "\n",
    "    \n",
    "    if end_condition_2(past_instance2, current_instance2):\n",
    "        break;\n",
    "    \n",
    "    past_instance2 = current_instance2\n",
    "    current_instance1 = original_instance1.clone()\n",
    "    \n",
    "    for i in range(1,points+1):\n",
    "            for j in range(1,clusters+1):\n",
    "                current_instance1.Assignment[i,j]=current_instance2.Assignment[i,j]\n",
    "    \n",
    "    count+=1"
   ]
  },
  {
   "cell_type": "code",
   "execution_count": 26,
   "metadata": {},
   "outputs": [
    {
     "data": {
      "text/plain": [
       "72"
      ]
     },
     "execution_count": 26,
     "metadata": {},
     "output_type": "execute_result"
    }
   ],
   "source": [
    "count"
   ]
  },
  {
   "cell_type": "code",
   "execution_count": 27,
   "metadata": {},
   "outputs": [],
   "source": [
    "assignment_DF.to_csv(folder+\"Assignment_1_NORM.csv\")"
   ]
  },
  {
   "cell_type": "code",
   "execution_count": 28,
   "metadata": {},
   "outputs": [],
   "source": [
    "centroid_DF.to_csv(folder+\"Centroid_1_NORM.csv\")"
   ]
  },
  {
   "cell_type": "code",
   "execution_count": null,
   "metadata": {
    "scrolled": true
   },
   "outputs": [],
   "source": []
  }
 ],
 "metadata": {
  "kernelspec": {
   "display_name": "Python 3",
   "language": "python",
   "name": "python3"
  },
  "language_info": {
   "codemirror_mode": {
    "name": "ipython",
    "version": 3
   },
   "file_extension": ".py",
   "mimetype": "text/x-python",
   "name": "python",
   "nbconvert_exporter": "python",
   "pygments_lexer": "ipython3",
   "version": "3.6.6"
  }
 },
 "nbformat": 4,
 "nbformat_minor": 2
}
