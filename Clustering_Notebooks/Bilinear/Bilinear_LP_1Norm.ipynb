{
 "cells": [
  {
   "cell_type": "code",
   "execution_count": 2,
   "metadata": {},
   "outputs": [],
   "source": [
    "from __future__ import division # safety with double division\n",
    "from pyomo.environ import *\n",
    "from pyomo.opt import SolverFactory\n",
    "Opt = SolverFactory(\"gurobi\")\n",
    "M1 = AbstractModel()\n",
    "M1.name = \"Clustering Centroid-Distance LP\""
   ]
  },
  {
   "cell_type": "markdown",
   "metadata": {},
   "source": [
    "# Clustering for Centroids\n",
    "In this linear programming optimization, it will be optimizing for the Centroids location relative to the fixed assignments;"
   ]
  },
  {
   "cell_type": "code",
   "execution_count": 3,
   "metadata": {},
   "outputs": [],
   "source": [
    "M1 = AbstractModel()\n",
    "M1.name = \"Clustering Centroid-Distance LP\""
   ]
  },
  {
   "cell_type": "code",
   "execution_count": null,
   "metadata": {},
   "outputs": [],
   "source": [
    "M2 = AbstractModel()\n",
    "M2.name = \"Clustering Assignment-LP\""
   ]
  },
  {
   "cell_type": "markdown",
   "metadata": {},
   "source": [
    "## Parameters\n",
    "- **d**: number of dimensions\n",
    "- **n**: number of points to cluster\n",
    "- **k**: number of clusters to generate"
   ]
  },
  {
   "cell_type": "code",
   "execution_count": 4,
   "metadata": {},
   "outputs": [],
   "source": [
    "M1.NumberOfDimensions = Param(within=NonNegativeIntegers)\n",
    "M1.NumberOfPoints = Param(within=NonNegativeIntegers)\n",
    "M1.NumberOfClusters = Param(within=NonNegativeIntegers)"
   ]
  },
  {
   "cell_type": "code",
   "execution_count": 5,
   "metadata": {},
   "outputs": [
    {
     "ename": "NameError",
     "evalue": "name 'M2' is not defined",
     "output_type": "error",
     "traceback": [
      "\u001b[0;31m---------------------------------------------------------------------------\u001b[0m",
      "\u001b[0;31mNameError\u001b[0m                                 Traceback (most recent call last)",
      "\u001b[0;32m<ipython-input-5-fae48be1be81>\u001b[0m in \u001b[0;36m<module>\u001b[0;34m()\u001b[0m\n\u001b[0;32m----> 1\u001b[0;31m \u001b[0mM2\u001b[0m\u001b[0;34m.\u001b[0m\u001b[0mNumberOfDimensions\u001b[0m \u001b[0;34m=\u001b[0m \u001b[0mParam\u001b[0m\u001b[0;34m(\u001b[0m\u001b[0mwithin\u001b[0m\u001b[0;34m=\u001b[0m\u001b[0mNonNegativeIntegers\u001b[0m\u001b[0;34m)\u001b[0m\u001b[0;34m\u001b[0m\u001b[0m\n\u001b[0m\u001b[1;32m      2\u001b[0m \u001b[0mM2\u001b[0m\u001b[0;34m.\u001b[0m\u001b[0mNumberOfPoints\u001b[0m \u001b[0;34m=\u001b[0m \u001b[0mParam\u001b[0m\u001b[0;34m(\u001b[0m\u001b[0mwithin\u001b[0m\u001b[0;34m=\u001b[0m\u001b[0mNonNegativeIntegers\u001b[0m\u001b[0;34m)\u001b[0m\u001b[0;34m\u001b[0m\u001b[0m\n\u001b[1;32m      3\u001b[0m \u001b[0mM2\u001b[0m\u001b[0;34m.\u001b[0m\u001b[0mNumberOfClusters\u001b[0m \u001b[0;34m=\u001b[0m \u001b[0mParam\u001b[0m\u001b[0;34m(\u001b[0m\u001b[0mwithin\u001b[0m\u001b[0;34m=\u001b[0m\u001b[0mNonNegativeIntegers\u001b[0m\u001b[0;34m)\u001b[0m\u001b[0;34m\u001b[0m\u001b[0m\n",
      "\u001b[0;31mNameError\u001b[0m: name 'M2' is not defined"
     ]
    }
   ],
   "source": [
    "M2.NumberOfDimensions = Param(within=NonNegativeIntegers)\n",
    "M2.NumberOfPoints = Param(within=NonNegativeIntegers)\n",
    "M2.NumberOfClusters = Param(within=NonNegativeIntegers)"
   ]
  },
  {
   "cell_type": "markdown",
   "metadata": {},
   "source": [
    "## Set\n",
    "- **Dimension Index (D)**: Set consisting of all possible possible dimensions an arbitrary point i.e. $[x_1, x_2, x_3 ... x_d]$\n",
    "- **Points (P)**: Set consisting of all indexes for Points in the system. $[p_1, p_2, p_3 ... p_n]$\n",
    "- **Cluster Index (C)**: Set consisting of possible ClusterIndex. $[c_1, c_2, c_3 ... c_k]$"
   ]
  },
  {
   "cell_type": "code",
   "execution_count": 1,
   "metadata": {},
   "outputs": [
    {
     "ename": "NameError",
     "evalue": "name 'RangeSet' is not defined",
     "output_type": "error",
     "traceback": [
      "\u001b[0;31m---------------------------------------------------------------------------\u001b[0m",
      "\u001b[0;31mNameError\u001b[0m                                 Traceback (most recent call last)",
      "\u001b[0;32m<ipython-input-1-2a75a5985173>\u001b[0m in \u001b[0;36m<module>\u001b[0;34m()\u001b[0m\n\u001b[0;32m----> 1\u001b[0;31m \u001b[0mM1\u001b[0m\u001b[0;34m.\u001b[0m\u001b[0mDimensionIndex\u001b[0m \u001b[0;34m=\u001b[0m \u001b[0mRangeSet\u001b[0m\u001b[0;34m(\u001b[0m\u001b[0;36m1\u001b[0m\u001b[0;34m,\u001b[0m\u001b[0mM1\u001b[0m\u001b[0;34m.\u001b[0m\u001b[0mNumberOfDimensions\u001b[0m\u001b[0;34m)\u001b[0m\u001b[0;34m\u001b[0m\u001b[0m\n\u001b[0m\u001b[1;32m      2\u001b[0m \u001b[0mM1\u001b[0m\u001b[0;34m.\u001b[0m\u001b[0mPointsIndex\u001b[0m \u001b[0;34m=\u001b[0m \u001b[0mRangeSet\u001b[0m\u001b[0;34m(\u001b[0m\u001b[0;36m1\u001b[0m\u001b[0;34m,\u001b[0m\u001b[0mM1\u001b[0m\u001b[0;34m.\u001b[0m\u001b[0mNumberOfPoints\u001b[0m\u001b[0;34m)\u001b[0m\u001b[0;34m\u001b[0m\u001b[0m\n\u001b[1;32m      3\u001b[0m \u001b[0mM1\u001b[0m\u001b[0;34m.\u001b[0m\u001b[0mClusterIndex\u001b[0m \u001b[0;34m=\u001b[0m \u001b[0mRangeSet\u001b[0m\u001b[0;34m(\u001b[0m\u001b[0;36m1\u001b[0m\u001b[0;34m,\u001b[0m\u001b[0mM1\u001b[0m\u001b[0;34m.\u001b[0m\u001b[0mNumberOfClusters\u001b[0m\u001b[0;34m)\u001b[0m\u001b[0;34m\u001b[0m\u001b[0m\n",
      "\u001b[0;31mNameError\u001b[0m: name 'RangeSet' is not defined"
     ]
    }
   ],
   "source": [
    "M1.DimensionIndex = RangeSet(1,M1.NumberOfDimensions)\n",
    "M1.PointsIndex = RangeSet(1,M1.NumberOfPoints)\n",
    "M1.ClusterIndex = RangeSet(1,M1.NumberOfClusters)"
   ]
  },
  {
   "cell_type": "code",
   "execution_count": null,
   "metadata": {},
   "outputs": [],
   "source": [
    "M2.DimensionIndex = RangeSet(1,M2.NumberOfDimensions)\n",
    "M2.PointsIndex = RangeSet(1,M2.NumberOfPoints)\n",
    "M2.ClusterIndex = RangeSet(1,M2.NumberOfClusters)"
   ]
  },
  {
   "cell_type": "markdown",
   "metadata": {},
   "source": [
    "## Inputs\n",
    "- **Point**: $P_{i,j}$ where $i$ $\\in$ PointsIndex and $j$ $\\in$ DimensionIndex "
   ]
  },
  {
   "cell_type": "code",
   "execution_count": 4,
   "metadata": {},
   "outputs": [],
   "source": [
    "M1.Point = Param(M1.PointsIndex,M1.DimensionIndex, within=Reals)"
   ]
  },
  {
   "cell_type": "code",
   "execution_count": null,
   "metadata": {},
   "outputs": [],
   "source": [
    "M2.Point = Param(M2.PointsIndex,M2.DimensionIndex, within=Reals)"
   ]
  },
  {
   "cell_type": "markdown",
   "metadata": {},
   "source": [
    "## Variables\n",
    "- **Centroid**: $C_{i,d}$ where i $\\in$ ClusterIndex and d $\\in$ dimensionalIndex \n",
    "- **Assignment**: $A_{i,j}$ where i $\\in$ pointsIndex and j $\\in$ clusteringIndex\n",
    "- **Slack Positive**: $S^{+}_{i,j,d}$ where i $\\in$ P, j $\\in$ C, and d $\\in$ D\n",
    "- **Skack Negative** $S^{-}_{i,j,d}$ where i $\\in$ P, j $\\in$ C, and d $\\in$ D"
   ]
  },
  {
   "cell_type": "code",
   "execution_count": 5,
   "metadata": {},
   "outputs": [],
   "source": [
    "M1.Centroid=Var(M1.ClusterIndex, M1.DimensionIndex, within=Reals)\n",
    "M1.Assignment=Var(M1.PointsIndex, M1.ClusterIndex, within=Binary)\n",
    "M1.Slack_Plus = Var(M1.PointsIndex,M1.ClusterIndex,M1.DimensionIndex, within=NonNegativeReals)\n",
    "M1.Slack_Minus = Var(M1.PointsIndex,M1.ClusterIndex,M1.DimensionIndex, within=NonNegativeReals)"
   ]
  },
  {
   "cell_type": "code",
   "execution_count": 7,
   "metadata": {},
   "outputs": [
    {
     "ename": "NameError",
     "evalue": "name 'M2' is not defined",
     "output_type": "error",
     "traceback": [
      "\u001b[0;31m---------------------------------------------------------------------------\u001b[0m",
      "\u001b[0;31mNameError\u001b[0m                                 Traceback (most recent call last)",
      "\u001b[0;32m<ipython-input-7-ae5583b6f760>\u001b[0m in \u001b[0;36m<module>\u001b[0;34m()\u001b[0m\n\u001b[0;32m----> 1\u001b[0;31m \u001b[0mM2\u001b[0m\u001b[0;34m.\u001b[0m\u001b[0mSlack_Plus\u001b[0m \u001b[0;34m=\u001b[0m \u001b[0mVar\u001b[0m\u001b[0;34m(\u001b[0m\u001b[0mM2\u001b[0m\u001b[0;34m.\u001b[0m\u001b[0mPointsIndex\u001b[0m\u001b[0;34m,\u001b[0m\u001b[0mM2\u001b[0m\u001b[0;34m.\u001b[0m\u001b[0mClusterIndex\u001b[0m\u001b[0;34m,\u001b[0m\u001b[0mM2\u001b[0m\u001b[0;34m.\u001b[0m\u001b[0mDimensionIndex\u001b[0m\u001b[0;34m,\u001b[0m \u001b[0mwithin\u001b[0m\u001b[0;34m=\u001b[0m\u001b[0mNonNegativeReals\u001b[0m\u001b[0;34m)\u001b[0m\u001b[0;34m\u001b[0m\u001b[0m\n\u001b[0m\u001b[1;32m      2\u001b[0m \u001b[0mM2\u001b[0m\u001b[0;34m.\u001b[0m\u001b[0mSlack_Minus\u001b[0m \u001b[0;34m=\u001b[0m \u001b[0mVar\u001b[0m\u001b[0;34m(\u001b[0m\u001b[0mM2\u001b[0m\u001b[0;34m.\u001b[0m\u001b[0mPointsIndex\u001b[0m\u001b[0;34m,\u001b[0m\u001b[0mM2\u001b[0m\u001b[0;34m.\u001b[0m\u001b[0mClusterIndex\u001b[0m\u001b[0;34m,\u001b[0m\u001b[0mM2\u001b[0m\u001b[0;34m.\u001b[0m\u001b[0mDimensionIndex\u001b[0m\u001b[0;34m,\u001b[0m \u001b[0mwithin\u001b[0m\u001b[0;34m=\u001b[0m\u001b[0mNonNegativeReals\u001b[0m\u001b[0;34m)\u001b[0m\u001b[0;34m\u001b[0m\u001b[0m\n",
      "\u001b[0;31mNameError\u001b[0m: name 'M2' is not defined"
     ]
    }
   ],
   "source": [
    "M2.Slack_Plus = Var(M2.PointsIndex,M2.ClusterIndex,M2.DimensionIndex, within=NonNegativeReals)\n",
    "M2.Slack_Minus = Var(M2.PointsIndex,M2.ClusterIndex,M2.DimensionIndex, within=NonNegativeReals)"
   ]
  },
  {
   "cell_type": "markdown",
   "metadata": {},
   "source": [
    "### M1 Fixed Value"
   ]
  },
  {
   "cell_type": "code",
   "execution_count": null,
   "metadata": {},
   "outputs": [],
   "source": [
    "M1.Centroid=Var(M1.ClusterIndex, M1.DimensionIndex, within=Reals)\n",
    "M1.Assignment=Var(M1.PointsIndex, M1.ClusterIndex, within=Binary)"
   ]
  },
  {
   "cell_type": "markdown",
   "metadata": {},
   "source": [
    "### M2 Fixed Value"
   ]
  },
  {
   "cell_type": "code",
   "execution_count": null,
   "metadata": {},
   "outputs": [],
   "source": [
    "c"
   ]
  },
  {
   "cell_type": "markdown",
   "metadata": {},
   "source": [
    "## Objective Function\n",
    "$$ \\sum_{i \\in Points}\\sum_{j \\in Clusters}\\sum_{x \\in Dimensions} A_{i,j}\\cdot(S^{+}_{i,j,x}+S^{-}_{i,j,x}) $$"
   ]
  },
  {
   "cell_type": "code",
   "execution_count": 6,
   "metadata": {},
   "outputs": [],
   "source": [
    "def ObjectiveFunction(M):\n",
    "    return sum( \\\n",
    "        M.Assignment[i,j]*(M.Slack_Plus[i,j,x]+M.Slack_Minus[i,j,x])\\\n",
    "               for i in M.PointsIndex \\\n",
    "               for j in M.ClusterIndex \\\n",
    "               for x in M.DimensionIndex)\n",
    "M1.Distance = Objective(rule=ObjectiveFunction, sense=minimize)\n",
    "    "
   ]
  },
  {
   "cell_type": "markdown",
   "metadata": {},
   "source": [
    "## Constraints for M1"
   ]
  },
  {
   "cell_type": "markdown",
   "metadata": {},
   "source": [
    "### Constraint 1: Distance Constraint\n",
    "Used to convert distance metric into 1-norm\n",
    "$$0=P_{i,x}-C_{j,x}+(S^{+}_{i,j,x}-S^{-}_{i,j,x}) \\qquad \\forall i \\in P, j\\in C, x \\in d $$"
   ]
  },
  {
   "cell_type": "code",
   "execution_count": 6,
   "metadata": {},
   "outputs": [
    {
     "ename": "AttributeError",
     "evalue": "'AbstractModel' object has no attribute 'PointsIndex'",
     "output_type": "error",
     "traceback": [
      "\u001b[0;31m---------------------------------------------------------------------------\u001b[0m",
      "\u001b[0;31mAttributeError\u001b[0m                            Traceback (most recent call last)",
      "\u001b[0;32m<ipython-input-6-f30490a6933f>\u001b[0m in \u001b[0;36m<module>\u001b[0;34m()\u001b[0m\n\u001b[1;32m      1\u001b[0m \u001b[0;32mdef\u001b[0m \u001b[0mDistanceConstraint\u001b[0m\u001b[0;34m(\u001b[0m\u001b[0mM\u001b[0m\u001b[0;34m,\u001b[0m\u001b[0mi\u001b[0m\u001b[0;34m,\u001b[0m\u001b[0mj\u001b[0m\u001b[0;34m,\u001b[0m\u001b[0mx\u001b[0m\u001b[0;34m)\u001b[0m\u001b[0;34m:\u001b[0m\u001b[0;34m\u001b[0m\u001b[0m\n\u001b[1;32m      2\u001b[0m     \u001b[0;32mreturn\u001b[0m \u001b[0;36m0\u001b[0m \u001b[0;34m==\u001b[0m \u001b[0mM\u001b[0m\u001b[0;34m.\u001b[0m\u001b[0mAssignment\u001b[0m\u001b[0;34m[\u001b[0m\u001b[0mi\u001b[0m\u001b[0;34m,\u001b[0m\u001b[0mj\u001b[0m\u001b[0;34m]\u001b[0m\u001b[0;34m*\u001b[0m\u001b[0;34m(\u001b[0m\u001b[0mM\u001b[0m\u001b[0;34m.\u001b[0m\u001b[0mPoint\u001b[0m\u001b[0;34m[\u001b[0m\u001b[0mi\u001b[0m\u001b[0;34m,\u001b[0m\u001b[0mx\u001b[0m\u001b[0;34m]\u001b[0m\u001b[0;34m-\u001b[0m\u001b[0mM\u001b[0m\u001b[0;34m.\u001b[0m\u001b[0mCentroid\u001b[0m\u001b[0;34m[\u001b[0m\u001b[0mj\u001b[0m\u001b[0;34m,\u001b[0m\u001b[0mx\u001b[0m\u001b[0;34m]\u001b[0m\u001b[0;34m)\u001b[0m\u001b[0;34m+\u001b[0m\u001b[0mM\u001b[0m\u001b[0;34m.\u001b[0m\u001b[0mSlack_Plus\u001b[0m\u001b[0;34m[\u001b[0m\u001b[0mi\u001b[0m\u001b[0;34m,\u001b[0m\u001b[0mj\u001b[0m\u001b[0;34m,\u001b[0m\u001b[0mx\u001b[0m\u001b[0;34m]\u001b[0m\u001b[0;34m-\u001b[0m\u001b[0mM\u001b[0m\u001b[0;34m.\u001b[0m\u001b[0mSlack_Minus\u001b[0m\u001b[0;34m[\u001b[0m\u001b[0mi\u001b[0m\u001b[0;34m,\u001b[0m\u001b[0mj\u001b[0m\u001b[0;34m,\u001b[0m\u001b[0mx\u001b[0m\u001b[0;34m]\u001b[0m\u001b[0;34m\u001b[0m\u001b[0m\n\u001b[0;32m----> 3\u001b[0;31m \u001b[0mM1\u001b[0m\u001b[0;34m.\u001b[0m\u001b[0mNorm\u001b[0m \u001b[0;34m=\u001b[0m \u001b[0mConstraint\u001b[0m\u001b[0;34m(\u001b[0m\u001b[0mM1\u001b[0m\u001b[0;34m.\u001b[0m\u001b[0mPointsIndex\u001b[0m\u001b[0;34m,\u001b[0m \u001b[0mM1\u001b[0m\u001b[0;34m.\u001b[0m\u001b[0mClusterIndex\u001b[0m\u001b[0;34m,\u001b[0m \u001b[0mM1\u001b[0m\u001b[0;34m.\u001b[0m\u001b[0mDimensionIndex\u001b[0m\u001b[0;34m,\u001b[0m \u001b[0mrule\u001b[0m \u001b[0;34m=\u001b[0m \u001b[0mDistanceConstraint\u001b[0m\u001b[0;34m)\u001b[0m\u001b[0;34m\u001b[0m\u001b[0m\n\u001b[0m",
      "\u001b[0;32m~/anaconda3/lib/python3.6/site-packages/pyomo/core/base/block.py\u001b[0m in \u001b[0;36m__getattr__\u001b[0;34m(self, val)\u001b[0m\n\u001b[1;32m    519\u001b[0m         \u001b[0;31m# throw the \"normal\" AttributeError\u001b[0m\u001b[0;34m\u001b[0m\u001b[0;34m\u001b[0m\u001b[0m\n\u001b[1;32m    520\u001b[0m         raise AttributeError(\"'%s' object has no attribute '%s'\"\n\u001b[0;32m--> 521\u001b[0;31m                              % (self.__class__.__name__, val))\n\u001b[0m\u001b[1;32m    522\u001b[0m \u001b[0;34m\u001b[0m\u001b[0m\n\u001b[1;32m    523\u001b[0m     \u001b[0;32mdef\u001b[0m \u001b[0m__setattr__\u001b[0m\u001b[0;34m(\u001b[0m\u001b[0mself\u001b[0m\u001b[0;34m,\u001b[0m \u001b[0mname\u001b[0m\u001b[0;34m,\u001b[0m \u001b[0mval\u001b[0m\u001b[0;34m)\u001b[0m\u001b[0;34m:\u001b[0m\u001b[0;34m\u001b[0m\u001b[0m\n",
      "\u001b[0;31mAttributeError\u001b[0m: 'AbstractModel' object has no attribute 'PointsIndex'"
     ]
    }
   ],
   "source": [
    "def DistanceConstraint(M,i,j,x):\n",
    "    return 0 == M.Assignment[i,j]*(M.Point[i,x]-M.Centroid[j,x])+M.Slack_Plus[i,j,x]-M.Slack_Minus[i,j,x]\n",
    "M1.Norm = Constraint(M1.PointsIndex, M1.ClusterIndex, M1.DimensionIndex, rule = DistanceConstraint)"
   ]
  },
  {
   "cell_type": "markdown",
   "metadata": {},
   "source": [
    "### Constraint 2: Only assign to 1 cluster\n",
    "This constraint ensures that for any arbitrary $P_i$ it is assigned to a singular Centroid $C_j$\n",
    "$$ 1= \\sum_{j\\in C} A_{i,j} \\qquad \\forall i \\in P $$\n"
   ]
  },
  {
   "cell_type": "code",
   "execution_count": 8,
   "metadata": {},
   "outputs": [],
   "source": [
    "def SingularAssignment(M,i):\n",
    "    return 1==sum(M.Assignment[i,j] for j in M.ClusterIndex)\n",
    "M.SingularBalanceConstraint = Constraint(M.PointsIndex, rule = SingularAssignment)"
   ]
  },
  {
   "cell_type": "markdown",
   "metadata": {},
   "source": [
    "### Constraint 3: Non-Empty Cluster\n",
    "By definition an arbitrary cluster $C_j$ cannot be empty with respects to the number of points assigned to it\n",
    "$$ 1 \\leq \\sum_{i\\in P} A_{i,j} \\qquad \\forall j \\in C $$"
   ]
  },
  {
   "cell_type": "code",
   "execution_count": 9,
   "metadata": {},
   "outputs": [],
   "source": [
    "def NonEmptyAssignments(M,j):\n",
    "    return 1<=sum(M.Assignment[i,j] for i in M.PointsIndex)\n",
    "M.NonEmptyConstraint=Constraint(M.ClusterIndex, rule=NonEmptyAssignments)"
   ]
  },
  {
   "cell_type": "markdown",
   "metadata": {},
   "source": []
  },
  {
   "cell_type": "code",
   "execution_count": null,
   "metadata": {},
   "outputs": [],
   "source": []
  },
  {
   "cell_type": "code",
   "execution_count": null,
   "metadata": {},
   "outputs": [],
   "source": []
  },
  {
   "cell_type": "code",
   "execution_count": null,
   "metadata": {},
   "outputs": [],
   "source": []
  },
  {
   "cell_type": "code",
   "execution_count": null,
   "metadata": {},
   "outputs": [],
   "source": []
  },
  {
   "cell_type": "code",
   "execution_count": null,
   "metadata": {},
   "outputs": [],
   "source": []
  },
  {
   "cell_type": "code",
   "execution_count": null,
   "metadata": {},
   "outputs": [],
   "source": []
  },
  {
   "cell_type": "code",
   "execution_count": null,
   "metadata": {},
   "outputs": [],
   "source": []
  },
  {
   "cell_type": "markdown",
   "metadata": {},
   "source": [
    "## Create Problem and Solver Instance"
   ]
  },
  {
   "cell_type": "code",
   "execution_count": 10,
   "metadata": {},
   "outputs": [
    {
     "name": "stdout",
     "output_type": "stream",
     "text": [
      "ERROR: Solver (gurobi) returned non-zero return code (1)\n",
      "ERROR: Solver log: Academic license - for non-commercial use only Read LP\n",
      "    format model from file\n",
      "    /home/wongaz/CodingWorkspace/ClusteringThesis/tmp_snam4oc.pyomo.lp Reading\n",
      "    time = 0.00 seconds x45: 7 rows, 45 columns, 17 nonzeros Optimize a model\n",
      "    with 7 rows, 45 columns and 17 nonzeros Model has 32 quadratic objective\n",
      "    terms Model has 16 quadratic constraints Variable types: 37 continuous, 8\n",
      "    integer (8 binary) Coefficient statistics:\n",
      "      Matrix range     [1e+00, 1e+00] QMatrix range    [1e+00, 1e+00] QLMatrix\n",
      "      range   [1e+00, 2e+00] Objective range  [0e+00, 0e+00] QObjective range\n",
      "      [2e+00, 2e+00] Bounds range     [1e+00, 1e+00] RHS range        [1e+00,\n",
      "      1e+00]\n",
      "    Presolve removed 1 rows and 1 columns Presolve time: 0.00s\n",
      "\n",
      "    Explored 0 nodes (0 simplex iterations) in 0.00 seconds Thread count was 1\n",
      "    (of 8 available processors)\n",
      "\n",
      "    Solution count 0\n",
      "\n",
      "    Best objective -, best bound -, gap - Traceback (most recent call last):\n",
      "      File \"<stdin>\", line 5, in <module> File\n",
      "      \"/home/wongaz/anaconda3/lib/python3.6/site-\n",
      "      packages/pyomo/solvers/plugins/solvers/GUROBI_RUN.py\", line 114, in\n",
      "      gurobi_run\n",
      "        model.optimize()\n",
      "      File \"model.pxi\", line 727, in gurobipy.Model.optimize\n",
      "      (../../src/python/gurobipy.c:57790)\n",
      "    gurobipy.GurobiError: Quadratic equality constraints\n"
     ]
    },
    {
     "ename": "ApplicationError",
     "evalue": "Solver (gurobi) did not exit normally",
     "output_type": "error",
     "traceback": [
      "\u001b[0;31m---------------------------------------------------------------------------\u001b[0m",
      "\u001b[0;31mApplicationError\u001b[0m                          Traceback (most recent call last)",
      "\u001b[0;32m<ipython-input-10-8fd6b2257729>\u001b[0m in \u001b[0;36m<module>\u001b[0;34m()\u001b[0m\n\u001b[1;32m      4\u001b[0m \u001b[0;34m\u001b[0m\u001b[0m\n\u001b[1;32m      5\u001b[0m \u001b[0;31m# Generate a solution\u001b[0m\u001b[0;34m\u001b[0m\u001b[0;34m\u001b[0m\u001b[0m\n\u001b[0;32m----> 6\u001b[0;31m \u001b[0mSoln\u001b[0m \u001b[0;34m=\u001b[0m \u001b[0mOpt\u001b[0m\u001b[0;34m.\u001b[0m\u001b[0msolve\u001b[0m\u001b[0;34m(\u001b[0m\u001b[0minstance\u001b[0m\u001b[0;34m)\u001b[0m\u001b[0;34m\u001b[0m\u001b[0m\n\u001b[0m\u001b[1;32m      7\u001b[0m \u001b[0minstance\u001b[0m\u001b[0;34m.\u001b[0m\u001b[0msolutions\u001b[0m\u001b[0;34m.\u001b[0m\u001b[0mload_from\u001b[0m\u001b[0;34m(\u001b[0m\u001b[0mSoln\u001b[0m\u001b[0;34m)\u001b[0m\u001b[0;34m\u001b[0m\u001b[0m\n\u001b[1;32m      8\u001b[0m \u001b[0;34m\u001b[0m\u001b[0m\n",
      "\u001b[0;32m~/anaconda3/lib/python3.6/site-packages/pyomo/opt/base/solvers.py\u001b[0m in \u001b[0;36msolve\u001b[0;34m(self, *args, **kwds)\u001b[0m\n\u001b[1;32m    624\u001b[0m                     \u001b[0mlogger\u001b[0m\u001b[0;34m.\u001b[0m\u001b[0merror\u001b[0m\u001b[0;34m(\u001b[0m\u001b[0;34m\"Solver log:\\n\"\u001b[0m \u001b[0;34m+\u001b[0m \u001b[0mstr\u001b[0m\u001b[0;34m(\u001b[0m\u001b[0m_status\u001b[0m\u001b[0;34m.\u001b[0m\u001b[0mlog\u001b[0m\u001b[0;34m)\u001b[0m\u001b[0;34m)\u001b[0m\u001b[0;34m\u001b[0m\u001b[0m\n\u001b[1;32m    625\u001b[0m                 raise pyutilib.common.ApplicationError(\n\u001b[0;32m--> 626\u001b[0;31m                     \"Solver (%s) did not exit normally\" % self.name)\n\u001b[0m\u001b[1;32m    627\u001b[0m             \u001b[0msolve_completion_time\u001b[0m \u001b[0;34m=\u001b[0m \u001b[0mtime\u001b[0m\u001b[0;34m.\u001b[0m\u001b[0mtime\u001b[0m\u001b[0;34m(\u001b[0m\u001b[0;34m)\u001b[0m\u001b[0;34m\u001b[0m\u001b[0m\n\u001b[1;32m    628\u001b[0m             \u001b[0;32mif\u001b[0m \u001b[0mself\u001b[0m\u001b[0;34m.\u001b[0m\u001b[0m_report_timing\u001b[0m\u001b[0;34m:\u001b[0m\u001b[0;34m\u001b[0m\u001b[0m\n",
      "\u001b[0;31mApplicationError\u001b[0m: Solver (gurobi) did not exit normally"
     ]
    }
   ],
   "source": [
    "instance = M.create_instance(\"Data/simpleTest.dat\")\n",
    "# Indicate which solver to use\n",
    "Opt = SolverFactory(\"gurobi\")\n",
    "\n",
    "# Generate a solution\n",
    "Soln = Opt.solve(instance)\n",
    "instance.solutions.load_from(Soln)\n",
    "\n",
    "# Print the output\n",
    "print(\"Termination Condition was \"+str(Soln.Solver.Termination_condition))\n",
    "display(instance)"
   ]
  },
  {
   "cell_type": "code",
   "execution_count": null,
   "metadata": {},
   "outputs": [],
   "source": []
  }
 ],
 "metadata": {
  "kernelspec": {
   "display_name": "Python 3",
   "language": "python",
   "name": "python3"
  },
  "language_info": {
   "codemirror_mode": {
    "name": "ipython",
    "version": 3
   },
   "file_extension": ".py",
   "mimetype": "text/x-python",
   "name": "python",
   "nbconvert_exporter": "python",
   "pygments_lexer": "ipython3",
   "version": "3.6.4"
  }
 },
 "nbformat": 4,
 "nbformat_minor": 2
}
