{
 "cells": [
  {
   "cell_type": "code",
   "execution_count": 1,
   "metadata": {},
   "outputs": [],
   "source": [
    "from __future__ import division # safety with double division\n",
    "from pyomo.environ import *\n",
    "from pyomo.opt import SolverFactory\n",
    "\n",
    "M = AbstractModel()\n",
    "M.name = \"Clustering Linear Program\""
   ]
  },
  {
   "cell_type": "markdown",
   "metadata": {},
   "source": [
    "## Parameters\n",
    "- **d**: number of dimensions\n",
    "- **n**: number of points to cluster\n",
    "- **c**: number of clusters to generate"
   ]
  },
  {
   "cell_type": "code",
   "execution_count": 2,
   "metadata": {},
   "outputs": [],
   "source": [
    "M.NumberOfDimensions = Param(within=NonNegativeIntegers)\n",
    "M.NumberOfPoints = Param(within=NonNegativeIntegers)\n",
    "M.NumberOfClusters = Param(within=NonNegativeIntegers)"
   ]
  },
  {
   "cell_type": "markdown",
   "metadata": {},
   "source": [
    "## Set\n",
    "- **Dimension Index (D)**: Set consisting of all possible possible dimensions an arbitrary point i.e. $[x_1, x_2, x_3 ... x_n]$\n",
    "- **Points (P)**: Set consisting of all indexes for Points in the system. $[p_1, p_2, p_3 ... p_m]$\n",
    "- **Cluster Index (C)**: Set consisting of possible ClusterIndex. $[c_1, c_2, c_3 ... c_k]$"
   ]
  },
  {
   "cell_type": "code",
   "execution_count": 3,
   "metadata": {},
   "outputs": [],
   "source": [
    "M.DimensionIndex = RangeSet(1,M.NumberOfDimensions)\n",
    "M.PointsIndex = RangeSet(1,M.NumberOfPoints)\n",
    "M.ClusterIndex = RangeSet(1,M.NumberOfClusters)"
   ]
  },
  {
   "cell_type": "markdown",
   "metadata": {},
   "source": [
    "## Inputs\n",
    "- **Point**: $P_{i,j}$ where $i$ $\\in$ PointsIndex and $j$ $\\in$ DimensionIndex "
   ]
  },
  {
   "cell_type": "code",
   "execution_count": 4,
   "metadata": {},
   "outputs": [],
   "source": [
    "M.Point = Param(M.PointsIndex,M.DimensionIndex, within=Reals)"
   ]
  },
  {
   "cell_type": "markdown",
   "metadata": {},
   "source": [
    "## Variables\n",
    "- **Centroid**: $C_{i,d}$ where i $\\in$ ClusterIndex and d $\\in$ dimensionalIndex \n",
    "- **Assignment**: $A_{i,j}$ where i $\\in$ pointsIndex and j $\\in$ clusteringIndex\n"
   ]
  },
  {
   "cell_type": "code",
   "execution_count": 5,
   "metadata": {},
   "outputs": [],
   "source": [
    "M.Centroid=Var(M.ClusterIndex, M.DimensionIndex, within=Reals)\n",
    "M.Assignment=Var(M.PointsIndex, M.ClusterIndex, within=Binary)\n",
    "M.Slack_Plus = Var(M.PointsIndex,M.ClusterIndex,M.DimensionIndex, within=NonNegativeReals)\n",
    "M.Slack_Minus = Var(M.PointsIndex,M.ClusterIndex,M.DimensionIndex, within=NonNegativeReals)"
   ]
  },
  {
   "cell_type": "markdown",
   "metadata": {},
   "source": [
    "## Objective Function\n",
    "$$ \\sum_{i \\in Points}\\sum_{j \\in Clusters}\\sum_{x \\in Dimensions} A_{i,j}\\cdot(S^{+}_{i,j,x}+S^{-}_{i,j,x}) $$"
   ]
  },
  {
   "cell_type": "code",
   "execution_count": 6,
   "metadata": {},
   "outputs": [],
   "source": [
    "def ObjectiveFunction(M):\n",
    "    return sum( \\\n",
    "        M.Assignment[i,j]*(M.Slack_Plus[i,j,x]+M.Slack_Minus[i,j,x])\\\n",
    "               for i in M.PointsIndex \\\n",
    "               for j in M.ClusterIndex \\\n",
    "               for x in M.DimensionIndex)\n",
    "M.Distance = Objective(rule=ObjectiveFunction, sense=minimize)\n",
    "    "
   ]
  },
  {
   "cell_type": "markdown",
   "metadata": {},
   "source": [
    "## Constraints"
   ]
  },
  {
   "cell_type": "markdown",
   "metadata": {},
   "source": [
    "### Constraint 1: Distance Constraint\n",
    "Used to convert distance metric into 1-norm\n",
    "$$0=P_{i,x}-C_{j,x}+(S^{+}_{i,j,x}-S^{-}_{i,j,x}) \\qquad \\forall i \\in P, j\\in C, x \\in d $$"
   ]
  },
  {
   "cell_type": "code",
   "execution_count": 7,
   "metadata": {},
   "outputs": [
    {
     "name": "stdout",
     "output_type": "stream",
     "text": [
      "WARNING: Implicitly replacing the Component attribute Distance (type=<class\n",
      "    'pyomo.core.base.objective.SimpleObjective'>) on block Clustering Linear\n",
      "    Program with a new Component (type=<class\n",
      "    'pyomo.core.base.constraint.IndexedConstraint'>). This is usually\n",
      "    indicative of a modelling error. To avoid this warning, use\n",
      "    block.del_component() and block.add_component().\n"
     ]
    }
   ],
   "source": [
    "def DistanceConstraint(M,i,j,x):\n",
    "    return M.C[j,x] == M.P[i,x]+M.Slack_Plus[i,j,x]-M.Slack_Minus[i,j,x]\n",
    "M.Distance = Constraint(M.PointsIndex, M.ClusterIndex, M.DimensionIndex, rule = DistanceConstraint)"
   ]
  },
  {
   "cell_type": "code",
   "execution_count": null,
   "metadata": {},
   "outputs": [],
   "source": []
  }
 ],
 "metadata": {
  "kernelspec": {
   "display_name": "Python 3",
   "language": "python",
   "name": "python3"
  },
  "language_info": {
   "codemirror_mode": {
    "name": "ipython",
    "version": 3
   },
   "file_extension": ".py",
   "mimetype": "text/x-python",
   "name": "python",
   "nbconvert_exporter": "python",
   "pygments_lexer": "ipython3",
   "version": "3.6.4"
  }
 },
 "nbformat": 4,
 "nbformat_minor": 2
}
